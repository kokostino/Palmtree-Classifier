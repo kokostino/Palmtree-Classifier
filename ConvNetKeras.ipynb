{
 "cells": [
  {
   "cell_type": "markdown",
   "id": "602144e6",
   "metadata": {},
   "source": [
    "## Import Packages\n",
    "---"
   ]
  },
  {
   "cell_type": "code",
   "execution_count": 12,
   "id": "51bf3b25",
   "metadata": {},
   "outputs": [],
   "source": [
    "import os\n",
    "import math\n",
    "import numpy as np\n",
    "import h5py\n",
    "import matplotlib.pyplot as plt\n",
    "from matplotlib.pyplot import imread\n",
    "import scipy\n",
    "from PIL import Image\n",
    "import pandas as pd\n",
    "import cv2\n",
    "import tensorflow as tf\n",
    "import tensorflow.keras.layers as tfl\n",
    "from tensorflow.python.framework import ops"
   ]
  },
  {
   "cell_type": "markdown",
   "id": "22337a9f",
   "metadata": {},
   "source": [
    "## Load Data\n",
    "---"
   ]
  },
  {
   "cell_type": "code",
   "execution_count": 5,
   "id": "7ad4b41f",
   "metadata": {},
   "outputs": [],
   "source": [
    "palm=pd.read_csv('palmtree_annotations.csv')\n",
    "palm[\"Label\"].iloc[576]='palmtree'\n",
    "palm[\"Label\"]=palm[\"Label\"].str.replace('nope','0').str.replace('palmtree','1')\n",
    "palm = palm.iloc[:-1 , :]"
   ]
  },
  {
   "cell_type": "code",
   "execution_count": 13,
   "id": "f306352c",
   "metadata": {},
   "outputs": [],
   "source": [
    "Y=palm[\"Label\"].to_list()\n",
    "X= np.array([cv2.imread(file).tolist() for file in palm[\"Image_name\"].to_list()])\n",
    "X_flatten =X.reshape(X.shape[0],-1).T\n",
    "Y_flatten=np.reshape(np.array(Y),(1,len(Y)))\n",
    "palm_shuffled=palm.sample(frac=1).reset_index(drop=True)"
   ]
  },
  {
   "cell_type": "code",
   "execution_count": 55,
   "id": "c1629f40",
   "metadata": {},
   "outputs": [],
   "source": [
    "trainset_size=int(len(palm_shuffled)*0.7)"
   ]
  },
  {
   "cell_type": "code",
   "execution_count": 56,
   "id": "993e7bb3",
   "metadata": {},
   "outputs": [],
   "source": [
    "train, test = palm_shuffled.iloc[:trainset_size], palm_shuffled.iloc[trainset_size:]"
   ]
  },
  {
   "cell_type": "code",
   "execution_count": 57,
   "id": "0b5e1080",
   "metadata": {},
   "outputs": [
    {
     "data": {
      "text/html": [
       "<div>\n",
       "<style scoped>\n",
       "    .dataframe tbody tr th:only-of-type {\n",
       "        vertical-align: middle;\n",
       "    }\n",
       "\n",
       "    .dataframe tbody tr th {\n",
       "        vertical-align: top;\n",
       "    }\n",
       "\n",
       "    .dataframe thead th {\n",
       "        text-align: right;\n",
       "    }\n",
       "</style>\n",
       "<table border=\"1\" class=\"dataframe\">\n",
       "  <thead>\n",
       "    <tr style=\"text-align: right;\">\n",
       "      <th></th>\n",
       "      <th>Image_name</th>\n",
       "      <th>Label</th>\n",
       "    </tr>\n",
       "  </thead>\n",
       "  <tbody>\n",
       "    <tr>\n",
       "      <th>0</th>\n",
       "      <td>Bilder\\20190930_073643_HDR.jpg</td>\n",
       "      <td>0</td>\n",
       "    </tr>\n",
       "    <tr>\n",
       "      <th>1</th>\n",
       "      <td>Bilder\\IMG_20190401_201715_626.jpg</td>\n",
       "      <td>0</td>\n",
       "    </tr>\n",
       "    <tr>\n",
       "      <th>2</th>\n",
       "      <td>Bilder\\IMG_1386.JPG</td>\n",
       "      <td>0</td>\n",
       "    </tr>\n",
       "    <tr>\n",
       "      <th>3</th>\n",
       "      <td>Bilder\\IMG_20190825_174632.jpg</td>\n",
       "      <td>0</td>\n",
       "    </tr>\n",
       "    <tr>\n",
       "      <th>4</th>\n",
       "      <td>Bilder\\FB_IMG_1577263574272.jpg</td>\n",
       "      <td>0</td>\n",
       "    </tr>\n",
       "    <tr>\n",
       "      <th>...</th>\n",
       "      <td>...</td>\n",
       "      <td>...</td>\n",
       "    </tr>\n",
       "    <tr>\n",
       "      <th>452</th>\n",
       "      <td>Bilder\\IMG-20200825-WA0009.jpg</td>\n",
       "      <td>0</td>\n",
       "    </tr>\n",
       "    <tr>\n",
       "      <th>453</th>\n",
       "      <td>Bilder\\20374544_1662578057116554_1637137420869...</td>\n",
       "      <td>0</td>\n",
       "    </tr>\n",
       "    <tr>\n",
       "      <th>454</th>\n",
       "      <td>Bilder\\IMG_20180331_064103_460.jpg</td>\n",
       "      <td>0</td>\n",
       "    </tr>\n",
       "    <tr>\n",
       "      <th>455</th>\n",
       "      <td>Bilder\\IMG_20200904_085752.jpg</td>\n",
       "      <td>0</td>\n",
       "    </tr>\n",
       "    <tr>\n",
       "      <th>456</th>\n",
       "      <td>Bilder\\IMG_1392.JPG</td>\n",
       "      <td>0</td>\n",
       "    </tr>\n",
       "  </tbody>\n",
       "</table>\n",
       "<p>457 rows × 2 columns</p>\n",
       "</div>"
      ],
      "text/plain": [
       "                                            Image_name Label\n",
       "0                       Bilder\\20190930_073643_HDR.jpg     0\n",
       "1                   Bilder\\IMG_20190401_201715_626.jpg     0\n",
       "2                                  Bilder\\IMG_1386.JPG     0\n",
       "3                       Bilder\\IMG_20190825_174632.jpg     0\n",
       "4                      Bilder\\FB_IMG_1577263574272.jpg     0\n",
       "..                                                 ...   ...\n",
       "452                     Bilder\\IMG-20200825-WA0009.jpg     0\n",
       "453  Bilder\\20374544_1662578057116554_1637137420869...     0\n",
       "454                 Bilder\\IMG_20180331_064103_460.jpg     0\n",
       "455                     Bilder\\IMG_20200904_085752.jpg     0\n",
       "456                                Bilder\\IMG_1392.JPG     0\n",
       "\n",
       "[457 rows x 2 columns]"
      ]
     },
     "execution_count": 57,
     "metadata": {},
     "output_type": "execute_result"
    }
   ],
   "source": [
    "train"
   ]
  },
  {
   "cell_type": "code",
   "execution_count": 58,
   "id": "6e85bb13",
   "metadata": {},
   "outputs": [
    {
     "data": {
      "text/html": [
       "<div>\n",
       "<style scoped>\n",
       "    .dataframe tbody tr th:only-of-type {\n",
       "        vertical-align: middle;\n",
       "    }\n",
       "\n",
       "    .dataframe tbody tr th {\n",
       "        vertical-align: top;\n",
       "    }\n",
       "\n",
       "    .dataframe thead th {\n",
       "        text-align: right;\n",
       "    }\n",
       "</style>\n",
       "<table border=\"1\" class=\"dataframe\">\n",
       "  <thead>\n",
       "    <tr style=\"text-align: right;\">\n",
       "      <th></th>\n",
       "      <th>Image_name</th>\n",
       "      <th>Label</th>\n",
       "    </tr>\n",
       "  </thead>\n",
       "  <tbody>\n",
       "    <tr>\n",
       "      <th>457</th>\n",
       "      <td>Bilder\\IMG_20180427_062546.jpg</td>\n",
       "      <td>0</td>\n",
       "    </tr>\n",
       "    <tr>\n",
       "      <th>458</th>\n",
       "      <td>Bilder\\IMG_20170816_105223_150.jpg</td>\n",
       "      <td>0</td>\n",
       "    </tr>\n",
       "    <tr>\n",
       "      <th>459</th>\n",
       "      <td>Bilder\\IMG_20181120_224742_614.jpg</td>\n",
       "      <td>0</td>\n",
       "    </tr>\n",
       "    <tr>\n",
       "      <th>460</th>\n",
       "      <td>Bilder\\IMG_20200120_144623.jpg</td>\n",
       "      <td>1</td>\n",
       "    </tr>\n",
       "    <tr>\n",
       "      <th>461</th>\n",
       "      <td>Bilder\\IMG_20160411_221114.jpg</td>\n",
       "      <td>0</td>\n",
       "    </tr>\n",
       "    <tr>\n",
       "      <th>...</th>\n",
       "      <td>...</td>\n",
       "      <td>...</td>\n",
       "    </tr>\n",
       "    <tr>\n",
       "      <th>648</th>\n",
       "      <td>Bilder\\FB_IMG_1455783195460.jpg</td>\n",
       "      <td>0</td>\n",
       "    </tr>\n",
       "    <tr>\n",
       "      <th>649</th>\n",
       "      <td>Bilder\\IMG_1323.JPG</td>\n",
       "      <td>0</td>\n",
       "    </tr>\n",
       "    <tr>\n",
       "      <th>650</th>\n",
       "      <td>Bilder\\IMG_1815.JPG</td>\n",
       "      <td>0</td>\n",
       "    </tr>\n",
       "    <tr>\n",
       "      <th>651</th>\n",
       "      <td>Bilder\\20190930_074642_HDR.jpg</td>\n",
       "      <td>0</td>\n",
       "    </tr>\n",
       "    <tr>\n",
       "      <th>652</th>\n",
       "      <td>Bilder\\IMG_20200926_223149.jpg</td>\n",
       "      <td>0</td>\n",
       "    </tr>\n",
       "  </tbody>\n",
       "</table>\n",
       "<p>196 rows × 2 columns</p>\n",
       "</div>"
      ],
      "text/plain": [
       "                             Image_name Label\n",
       "457      Bilder\\IMG_20180427_062546.jpg     0\n",
       "458  Bilder\\IMG_20170816_105223_150.jpg     0\n",
       "459  Bilder\\IMG_20181120_224742_614.jpg     0\n",
       "460      Bilder\\IMG_20200120_144623.jpg     1\n",
       "461      Bilder\\IMG_20160411_221114.jpg     0\n",
       "..                                  ...   ...\n",
       "648     Bilder\\FB_IMG_1455783195460.jpg     0\n",
       "649                 Bilder\\IMG_1323.JPG     0\n",
       "650                 Bilder\\IMG_1815.JPG     0\n",
       "651      Bilder\\20190930_074642_HDR.jpg     0\n",
       "652      Bilder\\IMG_20200926_223149.jpg     0\n",
       "\n",
       "[196 rows x 2 columns]"
      ]
     },
     "execution_count": 58,
     "metadata": {},
     "output_type": "execute_result"
    }
   ],
   "source": [
    "test"
   ]
  },
  {
   "cell_type": "code",
   "execution_count": 29,
   "id": "6b1e80a5",
   "metadata": {},
   "outputs": [],
   "source": [
    "#Bilder laden..\n",
    "Ytrain=train[\"Label\"].to_list()\n",
    "train_y=np.reshape(np.array(Ytrain,dtype=float),(1,len(Ytrain)))\n",
    "Xtrain= np.array([cv2.imread(file).tolist() for file in train[\"Image_name\"].to_list()])\n",
    "#train_x =Xtrain.reshape(Xtrain.shape[0],-1).T\n",
    "Ytest=test[\"Label\"].to_list()\n",
    "test_y=np.reshape(np.array(Ytest,dtype=float),(1,len(Ytest)))\n",
    "Xtest= np.array([cv2.imread(file).tolist() for file in test[\"Image_name\"].to_list()])\n",
    "#test_x =Xtest.reshape(Xtest.shape[0],-1).T"
   ]
  },
  {
   "cell_type": "code",
   "execution_count": 48,
   "id": "7debaf14",
   "metadata": {},
   "outputs": [
    {
     "name": "stdout",
     "output_type": "stream",
     "text": [
      "number of training examples = 457\n",
      "number of test examples = 196\n",
      "X_train shape: (457, 100, 100, 3)\n",
      "Y_train shape: (457, 1)\n",
      "X_test shape: (196, 100, 100, 3)\n",
      "Y_test shape: (196, 1)\n"
     ]
    }
   ],
   "source": [
    "# Normalise image vectors\n",
    "X_train = Xtrain/255.\n",
    "X_test = Xtest/255.\n",
    "\n",
    "# Reshape\n",
    "Y_train = train_y.T\n",
    "Y_test = test_y.T\n",
    "\n",
    "print (\"number of training examples = \" + str(X_train.shape[0]))\n",
    "print (\"number of test examples = \" + str(X_test.shape[0]))\n",
    "print (\"X_train shape: \" + str(X_train.shape))\n",
    "print (\"Y_train shape: \" + str(Y_train.shape))\n",
    "print (\"X_test shape: \" + str(X_test.shape))\n",
    "print (\"Y_test shape: \" + str(Y_test.shape))"
   ]
  },
  {
   "cell_type": "markdown",
   "id": "ccad81ed",
   "metadata": {},
   "source": [
    "## Define Model\n",
    "---"
   ]
  },
  {
   "cell_type": "code",
   "execution_count": 39,
   "id": "f197053a",
   "metadata": {},
   "outputs": [],
   "source": [
    "def palmModel():\n",
    "    model = tf.keras.Sequential([\n",
    "\n",
    "            tfl.ZeroPadding2D(padding=3, input_shape=(100,100,3)),\n",
    "            tfl.Conv2D(filters=32, kernel_size=(7, 7), strides=1),\n",
    "            tfl.BatchNormalization(axis=3),\n",
    "            tfl.ReLU(),\n",
    "            tfl.MaxPool2D(),\n",
    "            tfl.Flatten(),\n",
    "            tfl.Dense(units=1, activation='sigmoid')\n",
    "        ])\n",
    "  \n",
    "    return model"
   ]
  },
  {
   "cell_type": "code",
   "execution_count": 40,
   "id": "645e07b6",
   "metadata": {},
   "outputs": [],
   "source": [
    "palm_model=palmModel()\n",
    "palm_model.compile(optimizer='adam',\n",
    "                   loss='binary_crossentropy',\n",
    "                   metrics=['accuracy'])"
   ]
  },
  {
   "cell_type": "code",
   "execution_count": 41,
   "id": "70cdac20",
   "metadata": {},
   "outputs": [
    {
     "name": "stdout",
     "output_type": "stream",
     "text": [
      "Model: \"sequential\"\n",
      "_________________________________________________________________\n",
      "Layer (type)                 Output Shape              Param #   \n",
      "=================================================================\n",
      "zero_padding2d (ZeroPadding2 (None, 106, 106, 3)       0         \n",
      "_________________________________________________________________\n",
      "conv2d (Conv2D)              (None, 100, 100, 32)      4736      \n",
      "_________________________________________________________________\n",
      "batch_normalization (BatchNo (None, 100, 100, 32)      128       \n",
      "_________________________________________________________________\n",
      "re_lu (ReLU)                 (None, 100, 100, 32)      0         \n",
      "_________________________________________________________________\n",
      "max_pooling2d (MaxPooling2D) (None, 50, 50, 32)        0         \n",
      "_________________________________________________________________\n",
      "flatten (Flatten)            (None, 80000)             0         \n",
      "_________________________________________________________________\n",
      "dense (Dense)                (None, 1)                 80001     \n",
      "=================================================================\n",
      "Total params: 84,865\n",
      "Trainable params: 84,801\n",
      "Non-trainable params: 64\n",
      "_________________________________________________________________\n"
     ]
    }
   ],
   "source": [
    "palm_model.summary()"
   ]
  },
  {
   "cell_type": "markdown",
   "id": "d8953ca3",
   "metadata": {},
   "source": [
    "## Fit Model\n",
    "---"
   ]
  },
  {
   "cell_type": "code",
   "execution_count": 49,
   "id": "f5db68ba",
   "metadata": {},
   "outputs": [
    {
     "name": "stdout",
     "output_type": "stream",
     "text": [
      "Epoch 1/10\n",
      "29/29 [==============================] - 6s 202ms/step - loss: 5.6530 - accuracy: 0.8140\n",
      "Epoch 2/10\n",
      "29/29 [==============================] - 6s 198ms/step - loss: 0.9962 - accuracy: 0.8337\n",
      "Epoch 3/10\n",
      "29/29 [==============================] - 6s 207ms/step - loss: 1.3655 - accuracy: 0.8446\n",
      "Epoch 4/10\n",
      "29/29 [==============================] - 6s 203ms/step - loss: 0.6034 - accuracy: 0.8884\n",
      "Epoch 5/10\n",
      "29/29 [==============================] - 6s 200ms/step - loss: 0.3853 - accuracy: 0.9212\n",
      "Epoch 6/10\n",
      "29/29 [==============================] - 6s 207ms/step - loss: 0.3608 - accuracy: 0.9234\n",
      "Epoch 7/10\n",
      "29/29 [==============================] - 6s 201ms/step - loss: 0.1938 - accuracy: 0.9387\n",
      "Epoch 8/10\n",
      "29/29 [==============================] - 6s 207ms/step - loss: 0.0914 - accuracy: 0.9672\n",
      "Epoch 9/10\n",
      "29/29 [==============================] - 6s 205ms/step - loss: 0.1021 - accuracy: 0.9606\n",
      "Epoch 10/10\n",
      "29/29 [==============================] - 6s 199ms/step - loss: 0.1595 - accuracy: 0.9694\n"
     ]
    },
    {
     "data": {
      "text/plain": [
       "<tensorflow.python.keras.callbacks.History at 0x1e50036b7f0>"
      ]
     },
     "execution_count": 49,
     "metadata": {},
     "output_type": "execute_result"
    }
   ],
   "source": [
    "palm_model.fit(X_train, Y_train, epochs=10, batch_size=16)"
   ]
  }
 ],
 "metadata": {
  "kernelspec": {
   "display_name": "tensorflow-environment",
   "language": "python",
   "name": "tensorflow-environment"
  },
  "language_info": {
   "codemirror_mode": {
    "name": "ipython",
    "version": 3
   },
   "file_extension": ".py",
   "mimetype": "text/x-python",
   "name": "python",
   "nbconvert_exporter": "python",
   "pygments_lexer": "ipython3",
   "version": "3.8.8"
  }
 },
 "nbformat": 4,
 "nbformat_minor": 5
}
